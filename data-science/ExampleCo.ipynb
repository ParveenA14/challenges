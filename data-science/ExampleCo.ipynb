{
 "cells": [
  {
   "cell_type": "markdown",
   "metadata": {},
   "source": [
    "# Importing Packages\n"
   ]
  },
  {
   "cell_type": "code",
   "execution_count": 1,
   "metadata": {},
   "outputs": [],
   "source": [
    "from keras.preprocessing.sequence import TimeseriesGenerator\n",
    "from keras.models import Sequential \n",
    "from keras.layers import LSTM, Dense\n",
    "from sklearn.preprocessing import MinMaxScaler\n",
    "from statsmodels import *\n",
    "from tensorflow import keras"
   ]
  },
  {
   "cell_type": "code",
   "execution_count": 142,
   "metadata": {},
   "outputs": [],
   "source": [
    "import pandas as pd\n",
    "import numpy as np\n",
    "import matplotlib\n",
    "import matplotlib.pyplot as plt\n",
    "%matplotlib inline\n",
    "import seaborn as sns\n",
    "import datetime"
   ]
  },
  {
   "cell_type": "markdown",
   "metadata": {},
   "source": [
    "# Reading the Data"
   ]
  },
  {
   "cell_type": "code",
   "execution_count": 164,
   "metadata": {},
   "outputs": [],
   "source": [
    "#Reading Data from 20 Machines\n",
    "df1 = pd.read_csv(\"C:///machine_0.csv\")\n",
    "df2 = pd.read_csv(\"C:///machine_1.csv\")\n",
    "df3 = pd.read_csv(\"C:///machine_2.csv\")\n",
    "df4 = pd.read_csv(\"C:///machine_3.csv\")\n",
    "df5 = pd.read_csv(\"C:///machine_4.csv\")\n",
    "df6 = pd.read_csv(\"C:///machine_5.csv\")\n",
    "df7 = pd.read_csv(\"C:///machine_6.csv\")\n",
    "df8 = pd.read_csv(\"C:///machine_7.csv\")\n",
    "df9 = pd.read_csv(\"C:///machine_8.csv\")\n",
    "df10= pd.read_csv(\"C:///machine_9.csv\")\n",
    "df11= pd.read_csv(\"C:///machine_10.csv\")\n",
    "df12= pd.read_csv(\"C:///machine_11.csv\")\n",
    "df13= pd.read_csv(\"C:///machine_12.csv\")\n",
    "df14= pd.read_csv(\"C:///machine_13.csv\")\n",
    "df15= pd.read_csv(\"C:///machine_14.csv\")\n",
    "df16= pd.read_csv(\"C:///machine_15.csv\")\n",
    "df17= pd.read_csv(\"C:///machine_16.csv\")\n",
    "df18= pd.read_csv(\"C:///machine_17.csv\")\n",
    "df19= pd.read_csv(\"C:///machine_18.csv\")\n",
    "df20= pd.read_csv(\"C:///machine_19.csv\")"
   ]
  },
  {
   "cell_type": "markdown",
   "metadata": {},
   "source": [
    "# Exploratory Analysis on Machine 0"
   ]
  },
  {
   "cell_type": "code",
   "execution_count": 165,
   "metadata": {},
   "outputs": [
    {
     "data": {
      "text/html": [
       "<div>\n",
       "<style scoped>\n",
       "    .dataframe tbody tr th:only-of-type {\n",
       "        vertical-align: middle;\n",
       "    }\n",
       "\n",
       "    .dataframe tbody tr th {\n",
       "        vertical-align: top;\n",
       "    }\n",
       "\n",
       "    .dataframe thead th {\n",
       "        text-align: right;\n",
       "    }\n",
       "</style>\n",
       "<table border=\"1\" class=\"dataframe\">\n",
       "  <thead>\n",
       "    <tr style=\"text-align: right;\">\n",
       "      <th></th>\n",
       "      <th>Unnamed: 0</th>\n",
       "      <th>0</th>\n",
       "      <th>1</th>\n",
       "      <th>2</th>\n",
       "      <th>3</th>\n",
       "    </tr>\n",
       "  </thead>\n",
       "  <tbody>\n",
       "    <tr>\n",
       "      <th>0</th>\n",
       "      <td>2019-01-01 00:00:00.000000000</td>\n",
       "      <td>12.626096</td>\n",
       "      <td>8.803120</td>\n",
       "      <td>-11.809200</td>\n",
       "      <td>10.083961</td>\n",
       "    </tr>\n",
       "    <tr>\n",
       "      <th>1</th>\n",
       "      <td>2019-01-01 08:00:09.603201067</td>\n",
       "      <td>10.831994</td>\n",
       "      <td>2.816327</td>\n",
       "      <td>11.554778</td>\n",
       "      <td>21.892853</td>\n",
       "    </tr>\n",
       "    <tr>\n",
       "      <th>2</th>\n",
       "      <td>2019-01-01 16:00:19.206402134</td>\n",
       "      <td>21.083510</td>\n",
       "      <td>-0.672645</td>\n",
       "      <td>-17.839178</td>\n",
       "      <td>-1.349024</td>\n",
       "    </tr>\n",
       "    <tr>\n",
       "      <th>3</th>\n",
       "      <td>2019-01-02 00:00:28.809603201</td>\n",
       "      <td>32.294495</td>\n",
       "      <td>6.525132</td>\n",
       "      <td>-13.498586</td>\n",
       "      <td>-4.250752</td>\n",
       "    </tr>\n",
       "    <tr>\n",
       "      <th>4</th>\n",
       "      <td>2019-01-02 08:00:38.412804268</td>\n",
       "      <td>28.057100</td>\n",
       "      <td>3.691359</td>\n",
       "      <td>21.984744</td>\n",
       "      <td>13.670561</td>\n",
       "    </tr>\n",
       "  </tbody>\n",
       "</table>\n",
       "</div>"
      ],
      "text/plain": [
       "                      Unnamed: 0          0         1          2          3\n",
       "0  2019-01-01 00:00:00.000000000  12.626096  8.803120 -11.809200  10.083961\n",
       "1  2019-01-01 08:00:09.603201067  10.831994  2.816327  11.554778  21.892853\n",
       "2  2019-01-01 16:00:19.206402134  21.083510 -0.672645 -17.839178  -1.349024\n",
       "3  2019-01-02 00:00:28.809603201  32.294495  6.525132 -13.498586  -4.250752\n",
       "4  2019-01-02 08:00:38.412804268  28.057100  3.691359  21.984744  13.670561"
      ]
     },
     "execution_count": 165,
     "metadata": {},
     "output_type": "execute_result"
    }
   ],
   "source": [
    "df=df1\n",
    "df.head()"
   ]
  },
  {
   "cell_type": "code",
   "execution_count": 131,
   "metadata": {},
   "outputs": [
    {
     "data": {
      "text/plain": [
       "(3000, 5)"
      ]
     },
     "execution_count": 131,
     "metadata": {},
     "output_type": "execute_result"
    }
   ],
   "source": [
    "df.shape"
   ]
  },
  {
   "cell_type": "code",
   "execution_count": 163,
   "metadata": {},
   "outputs": [
    {
     "data": {
      "text/html": [
       "<div>\n",
       "<style scoped>\n",
       "    .dataframe tbody tr th:only-of-type {\n",
       "        vertical-align: middle;\n",
       "    }\n",
       "\n",
       "    .dataframe tbody tr th {\n",
       "        vertical-align: top;\n",
       "    }\n",
       "\n",
       "    .dataframe thead th {\n",
       "        text-align: right;\n",
       "    }\n",
       "</style>\n",
       "<table border=\"1\" class=\"dataframe\">\n",
       "  <thead>\n",
       "    <tr style=\"text-align: right;\">\n",
       "      <th></th>\n",
       "      <th>0</th>\n",
       "      <th>1</th>\n",
       "      <th>2</th>\n",
       "      <th>3</th>\n",
       "      <th>outlier_count</th>\n",
       "      <th>0_zscore</th>\n",
       "      <th>1_zscore</th>\n",
       "      <th>2_zscore</th>\n",
       "      <th>3_zscore</th>\n",
       "    </tr>\n",
       "  </thead>\n",
       "  <tbody>\n",
       "    <tr>\n",
       "      <th>count</th>\n",
       "      <td>3000.000000</td>\n",
       "      <td>3000.000000</td>\n",
       "      <td>3000.000000</td>\n",
       "      <td>3000.000000</td>\n",
       "      <td>3000.000000</td>\n",
       "      <td>3.000000e+03</td>\n",
       "      <td>3.000000e+03</td>\n",
       "      <td>3.000000e+03</td>\n",
       "      <td>3.000000e+03</td>\n",
       "    </tr>\n",
       "    <tr>\n",
       "      <th>mean</th>\n",
       "      <td>-0.816016</td>\n",
       "      <td>-1.091308</td>\n",
       "      <td>1.267945</td>\n",
       "      <td>0.165844</td>\n",
       "      <td>0.240000</td>\n",
       "      <td>-9.321247e-18</td>\n",
       "      <td>-3.620946e-17</td>\n",
       "      <td>-5.648260e-18</td>\n",
       "      <td>7.501812e-18</td>\n",
       "    </tr>\n",
       "    <tr>\n",
       "      <th>std</th>\n",
       "      <td>58.078319</td>\n",
       "      <td>55.965665</td>\n",
       "      <td>56.538700</td>\n",
       "      <td>56.910659</td>\n",
       "      <td>0.501149</td>\n",
       "      <td>1.000167e+00</td>\n",
       "      <td>1.000167e+00</td>\n",
       "      <td>1.000167e+00</td>\n",
       "      <td>1.000167e+00</td>\n",
       "    </tr>\n",
       "    <tr>\n",
       "      <th>min</th>\n",
       "      <td>-323.954437</td>\n",
       "      <td>-258.780879</td>\n",
       "      <td>-287.153920</td>\n",
       "      <td>-365.362164</td>\n",
       "      <td>0.000000</td>\n",
       "      <td>-5.564767e+00</td>\n",
       "      <td>-4.605190e+00</td>\n",
       "      <td>-5.102168e+00</td>\n",
       "      <td>-6.423910e+00</td>\n",
       "    </tr>\n",
       "    <tr>\n",
       "      <th>25%</th>\n",
       "      <td>-0.008684</td>\n",
       "      <td>-0.008851</td>\n",
       "      <td>-0.008274</td>\n",
       "      <td>-0.007883</td>\n",
       "      <td>0.000000</td>\n",
       "      <td>1.390306e-02</td>\n",
       "      <td>1.934468e-02</td>\n",
       "      <td>-2.257626e-02</td>\n",
       "      <td>-3.053130e-03</td>\n",
       "    </tr>\n",
       "    <tr>\n",
       "      <th>50%</th>\n",
       "      <td>-0.000402</td>\n",
       "      <td>-0.000085</td>\n",
       "      <td>0.000669</td>\n",
       "      <td>0.000310</td>\n",
       "      <td>0.000000</td>\n",
       "      <td>1.404569e-02</td>\n",
       "      <td>1.950133e-02</td>\n",
       "      <td>-2.241805e-02</td>\n",
       "      <td>-2.909147e-03</td>\n",
       "    </tr>\n",
       "    <tr>\n",
       "      <th>75%</th>\n",
       "      <td>0.007832</td>\n",
       "      <td>0.008373</td>\n",
       "      <td>0.009056</td>\n",
       "      <td>0.008685</td>\n",
       "      <td>0.000000</td>\n",
       "      <td>1.418747e-02</td>\n",
       "      <td>1.965247e-02</td>\n",
       "      <td>-2.226968e-02</td>\n",
       "      <td>-2.761967e-03</td>\n",
       "    </tr>\n",
       "    <tr>\n",
       "      <th>max</th>\n",
       "      <td>315.738951</td>\n",
       "      <td>264.374782</td>\n",
       "      <td>281.684102</td>\n",
       "      <td>340.513819</td>\n",
       "      <td>3.000000</td>\n",
       "      <td>5.451393e+00</td>\n",
       "      <td>4.744165e+00</td>\n",
       "      <td>4.960547e+00</td>\n",
       "      <td>5.981388e+00</td>\n",
       "    </tr>\n",
       "  </tbody>\n",
       "</table>\n",
       "</div>"
      ],
      "text/plain": [
       "                 0            1            2            3  outlier_count  \\\n",
       "count  3000.000000  3000.000000  3000.000000  3000.000000    3000.000000   \n",
       "mean     -0.816016    -1.091308     1.267945     0.165844       0.240000   \n",
       "std      58.078319    55.965665    56.538700    56.910659       0.501149   \n",
       "min    -323.954437  -258.780879  -287.153920  -365.362164       0.000000   \n",
       "25%      -0.008684    -0.008851    -0.008274    -0.007883       0.000000   \n",
       "50%      -0.000402    -0.000085     0.000669     0.000310       0.000000   \n",
       "75%       0.007832     0.008373     0.009056     0.008685       0.000000   \n",
       "max     315.738951   264.374782   281.684102   340.513819       3.000000   \n",
       "\n",
       "           0_zscore      1_zscore      2_zscore      3_zscore  \n",
       "count  3.000000e+03  3.000000e+03  3.000000e+03  3.000000e+03  \n",
       "mean  -9.321247e-18 -3.620946e-17 -5.648260e-18  7.501812e-18  \n",
       "std    1.000167e+00  1.000167e+00  1.000167e+00  1.000167e+00  \n",
       "min   -5.564767e+00 -4.605190e+00 -5.102168e+00 -6.423910e+00  \n",
       "25%    1.390306e-02  1.934468e-02 -2.257626e-02 -3.053130e-03  \n",
       "50%    1.404569e-02  1.950133e-02 -2.241805e-02 -2.909147e-03  \n",
       "75%    1.418747e-02  1.965247e-02 -2.226968e-02 -2.761967e-03  \n",
       "max    5.451393e+00  4.744165e+00  4.960547e+00  5.981388e+00  "
      ]
     },
     "execution_count": 163,
     "metadata": {},
     "output_type": "execute_result"
    }
   ],
   "source": [
    "df.describe()"
   ]
  },
  {
   "cell_type": "code",
   "execution_count": null,
   "metadata": {},
   "outputs": [],
   "source": [
    "#Machine 1 dataset\n",
    "#df = pd.read_csv(\"C:///machine_3.csv\")\n",
    "df.head(3000)\n",
    "df['Mode'].value_counts()"
   ]
  },
  {
   "cell_type": "markdown",
   "metadata": {},
   "source": [
    "# Exploratory Data Analysis"
   ]
  },
  {
   "cell_type": "code",
   "execution_count": 120,
   "metadata": {},
   "outputs": [
    {
     "data": {
      "text/plain": [
       "array([<matplotlib.axes._subplots.AxesSubplot object at 0x00000261772E3700>],\n",
       "      dtype=object)"
      ]
     },
     "execution_count": 120,
     "metadata": {},
     "output_type": "execute_result"
    },
    {
     "data": {
      "image/png": "[encoded data removed]",
      "text/plain": [
       "<Figure size 432x288 with 1 Axes>"
      ]
     },
     "metadata": {
      "needs_background": "light"
     },
     "output_type": "display_data"
    }
   ],
   "source": [
    "# Below Histogram shows how the 4 reading values of Machine0 distributed\n",
    "fig, ax = plt.subplots()\n",
    "df.hist(column=['0'], ax=ax)\n",
    "df.hist(column=['1'], ax=ax)\n",
    "\n",
    "df.hist(column=['2'], ax=ax)\n",
    "df.hist(column=['3'], ax=ax)"
   ]
  },
  {
   "cell_type": "code",
   "execution_count": 144,
   "metadata": {},
   "outputs": [
    {
     "data": {
      "text/plain": [
       "0    float64\n",
       "1    float64\n",
       "2    float64\n",
       "3    float64\n",
       "dtype: object"
      ]
     },
     "execution_count": 144,
     "metadata": {},
     "output_type": "execute_result"
    }
   ],
   "source": [
    "df.dtypes"
   ]
  },
  {
   "cell_type": "code",
   "execution_count": null,
   "metadata": {},
   "outputs": [],
   "source": [
    "df.shape"
   ]
  },
  {
   "cell_type": "code",
   "execution_count": 125,
   "metadata": {},
   "outputs": [
    {
     "data": {
      "text/plain": [
       "Unnamed: 0    0\n",
       "0             0\n",
       "1             0\n",
       "2             0\n",
       "3             0\n",
       "dtype: int64"
      ]
     },
     "execution_count": 125,
     "metadata": {},
     "output_type": "execute_result"
    }
   ],
   "source": [
    "# Check for null or missing values in the data of Machine 0\n",
    "df.isnull().sum()"
   ]
  },
  {
   "cell_type": "markdown",
   "metadata": {},
   "source": [
    "# Labeling the modes of operation of Machines as 'Normal','Faulty' and Failure"
   ]
  },
  {
   "cell_type": "code",
   "execution_count": 166,
   "metadata": {},
   "outputs": [],
   "source": [
    "# From the above EDA we can see that most of the outlier values are above 250 and below -250.\n",
    "# So labeling those rows as Faulty and dropping them later part of code\n",
    "# Readings greater than 1 and less than -1 as Normal reading ,rest is Failure\n",
    "# where all the values drop to 0.\n",
    "def fix_faulty(row):\n",
    "    x = ['0','1','2','3']\n",
    "    for i in x:\n",
    "        if(row[i] >= 1 or row[i] <= -1):\n",
    "            if(row[i] >= 250 or row[i] <= -250):\n",
    "                return \"Faulty\"\n",
    "            return \"Normal\"\n",
    "        \n",
    "        \n",
    "        \n",
    "    return \"Failure\"\n",
    "            \n",
    "df['Mode'] = df.apply(fix_faulty,axis=1)\n"
   ]
  },
  {
   "cell_type": "code",
   "execution_count": 148,
   "metadata": {},
   "outputs": [
    {
     "data": {
      "text/plain": [
       "Failure    2137\n",
       "Faulty      490\n",
       "Normal      373\n",
       "Name: Mode, dtype: int64"
      ]
     },
     "execution_count": 148,
     "metadata": {},
     "output_type": "execute_result"
    }
   ],
   "source": [
    "# From the below output we can see that we have more failures in Machine 0 and 490 outlier rows and 373 normal readings\n",
    "df['Mode'].value_counts()"
   ]
  },
  {
   "cell_type": "code",
   "execution_count": 153,
   "metadata": {},
   "outputs": [
    {
     "data": {
      "text/html": [
       "<div>\n",
       "<style scoped>\n",
       "    .dataframe tbody tr th:only-of-type {\n",
       "        vertical-align: middle;\n",
       "    }\n",
       "\n",
       "    .dataframe tbody tr th {\n",
       "        vertical-align: top;\n",
       "    }\n",
       "\n",
       "    .dataframe thead th {\n",
       "        text-align: right;\n",
       "    }\n",
       "</style>\n",
       "<table border=\"1\" class=\"dataframe\">\n",
       "  <thead>\n",
       "    <tr style=\"text-align: right;\">\n",
       "      <th></th>\n",
       "      <th>0</th>\n",
       "      <th>1</th>\n",
       "      <th>2</th>\n",
       "      <th>3</th>\n",
       "      <th>Mode</th>\n",
       "    </tr>\n",
       "  </thead>\n",
       "  <tbody>\n",
       "    <tr>\n",
       "      <th>10</th>\n",
       "      <td>274.010522</td>\n",
       "      <td>1.815051</td>\n",
       "      <td>19.832872</td>\n",
       "      <td>-260.793867</td>\n",
       "      <td>Faulty</td>\n",
       "    </tr>\n",
       "    <tr>\n",
       "      <th>31</th>\n",
       "      <td>269.832605</td>\n",
       "      <td>-0.662311</td>\n",
       "      <td>8.453306</td>\n",
       "      <td>12.566976</td>\n",
       "      <td>Faulty</td>\n",
       "    </tr>\n",
       "    <tr>\n",
       "      <th>44</th>\n",
       "      <td>-273.747803</td>\n",
       "      <td>-6.215151</td>\n",
       "      <td>23.815402</td>\n",
       "      <td>3.140229</td>\n",
       "      <td>Faulty</td>\n",
       "    </tr>\n",
       "    <tr>\n",
       "      <th>104</th>\n",
       "      <td>-284.380713</td>\n",
       "      <td>-6.062926</td>\n",
       "      <td>-12.738915</td>\n",
       "      <td>-3.983595</td>\n",
       "      <td>Faulty</td>\n",
       "    </tr>\n",
       "    <tr>\n",
       "      <th>116</th>\n",
       "      <td>271.527346</td>\n",
       "      <td>4.690857</td>\n",
       "      <td>16.690505</td>\n",
       "      <td>18.183480</td>\n",
       "      <td>Faulty</td>\n",
       "    </tr>\n",
       "    <tr>\n",
       "      <th>...</th>\n",
       "      <td>...</td>\n",
       "      <td>...</td>\n",
       "      <td>...</td>\n",
       "      <td>...</td>\n",
       "      <td>...</td>\n",
       "    </tr>\n",
       "    <tr>\n",
       "      <th>2968</th>\n",
       "      <td>-0.002507</td>\n",
       "      <td>0.008597</td>\n",
       "      <td>0.000209</td>\n",
       "      <td>250.003534</td>\n",
       "      <td>Faulty</td>\n",
       "    </tr>\n",
       "    <tr>\n",
       "      <th>2973</th>\n",
       "      <td>0.005659</td>\n",
       "      <td>0.004826</td>\n",
       "      <td>-0.004033</td>\n",
       "      <td>-250.011873</td>\n",
       "      <td>Faulty</td>\n",
       "    </tr>\n",
       "    <tr>\n",
       "      <th>2976</th>\n",
       "      <td>0.010039</td>\n",
       "      <td>0.019226</td>\n",
       "      <td>-0.003976</td>\n",
       "      <td>250.005539</td>\n",
       "      <td>Faulty</td>\n",
       "    </tr>\n",
       "    <tr>\n",
       "      <th>2982</th>\n",
       "      <td>250.000982</td>\n",
       "      <td>0.005630</td>\n",
       "      <td>250.002417</td>\n",
       "      <td>0.001535</td>\n",
       "      <td>Faulty</td>\n",
       "    </tr>\n",
       "    <tr>\n",
       "      <th>2991</th>\n",
       "      <td>-0.005180</td>\n",
       "      <td>250.009089</td>\n",
       "      <td>-0.007599</td>\n",
       "      <td>-250.000259</td>\n",
       "      <td>Faulty</td>\n",
       "    </tr>\n",
       "  </tbody>\n",
       "</table>\n",
       "<p>490 rows × 5 columns</p>\n",
       "</div>"
      ],
      "text/plain": [
       "               0           1           2           3    Mode\n",
       "10    274.010522    1.815051   19.832872 -260.793867  Faulty\n",
       "31    269.832605   -0.662311    8.453306   12.566976  Faulty\n",
       "44   -273.747803   -6.215151   23.815402    3.140229  Faulty\n",
       "104  -284.380713   -6.062926  -12.738915   -3.983595  Faulty\n",
       "116   271.527346    4.690857   16.690505   18.183480  Faulty\n",
       "...          ...         ...         ...         ...     ...\n",
       "2968   -0.002507    0.008597    0.000209  250.003534  Faulty\n",
       "2973    0.005659    0.004826   -0.004033 -250.011873  Faulty\n",
       "2976    0.010039    0.019226   -0.003976  250.005539  Faulty\n",
       "2982  250.000982    0.005630  250.002417    0.001535  Faulty\n",
       "2991   -0.005180  250.009089   -0.007599 -250.000259  Faulty\n",
       "\n",
       "[490 rows x 5 columns]"
      ]
     },
     "execution_count": 153,
     "metadata": {},
     "output_type": "execute_result"
    }
   ],
   "source": [
    "# Analysing the faulty mode\n",
    "df.loc[df['Mode'] == 'Faulty',:]"
   ]
  },
  {
   "cell_type": "code",
   "execution_count": 154,
   "metadata": {},
   "outputs": [
    {
     "data": {
      "text/html": [
       "<div>\n",
       "<style scoped>\n",
       "    .dataframe tbody tr th:only-of-type {\n",
       "        vertical-align: middle;\n",
       "    }\n",
       "\n",
       "    .dataframe tbody tr th {\n",
       "        vertical-align: top;\n",
       "    }\n",
       "\n",
       "    .dataframe thead th {\n",
       "        text-align: right;\n",
       "    }\n",
       "</style>\n",
       "<table border=\"1\" class=\"dataframe\">\n",
       "  <thead>\n",
       "    <tr style=\"text-align: right;\">\n",
       "      <th></th>\n",
       "      <th>0</th>\n",
       "      <th>1</th>\n",
       "      <th>2</th>\n",
       "      <th>3</th>\n",
       "      <th>Mode</th>\n",
       "    </tr>\n",
       "  </thead>\n",
       "  <tbody>\n",
       "    <tr>\n",
       "      <th>397</th>\n",
       "      <td>0.003946</td>\n",
       "      <td>0.009180</td>\n",
       "      <td>0.004883</td>\n",
       "      <td>0.010035</td>\n",
       "      <td>Failure</td>\n",
       "    </tr>\n",
       "    <tr>\n",
       "      <th>400</th>\n",
       "      <td>-0.006653</td>\n",
       "      <td>-0.003063</td>\n",
       "      <td>-0.004379</td>\n",
       "      <td>0.002276</td>\n",
       "      <td>Failure</td>\n",
       "    </tr>\n",
       "    <tr>\n",
       "      <th>401</th>\n",
       "      <td>-0.001126</td>\n",
       "      <td>0.012249</td>\n",
       "      <td>-0.001380</td>\n",
       "      <td>0.006800</td>\n",
       "      <td>Failure</td>\n",
       "    </tr>\n",
       "    <tr>\n",
       "      <th>402</th>\n",
       "      <td>-0.002541</td>\n",
       "      <td>0.018387</td>\n",
       "      <td>-0.011604</td>\n",
       "      <td>-0.004464</td>\n",
       "      <td>Failure</td>\n",
       "    </tr>\n",
       "    <tr>\n",
       "      <th>404</th>\n",
       "      <td>0.017978</td>\n",
       "      <td>0.001951</td>\n",
       "      <td>-0.001356</td>\n",
       "      <td>-0.008844</td>\n",
       "      <td>Failure</td>\n",
       "    </tr>\n",
       "    <tr>\n",
       "      <th>...</th>\n",
       "      <td>...</td>\n",
       "      <td>...</td>\n",
       "      <td>...</td>\n",
       "      <td>...</td>\n",
       "      <td>...</td>\n",
       "    </tr>\n",
       "    <tr>\n",
       "      <th>2995</th>\n",
       "      <td>0.004364</td>\n",
       "      <td>-0.010959</td>\n",
       "      <td>-0.007210</td>\n",
       "      <td>0.012390</td>\n",
       "      <td>Failure</td>\n",
       "    </tr>\n",
       "    <tr>\n",
       "      <th>2996</th>\n",
       "      <td>0.004077</td>\n",
       "      <td>0.000165</td>\n",
       "      <td>-0.003772</td>\n",
       "      <td>0.010053</td>\n",
       "      <td>Failure</td>\n",
       "    </tr>\n",
       "    <tr>\n",
       "      <th>2997</th>\n",
       "      <td>0.007702</td>\n",
       "      <td>-0.014708</td>\n",
       "      <td>-0.011722</td>\n",
       "      <td>0.001334</td>\n",
       "      <td>Failure</td>\n",
       "    </tr>\n",
       "    <tr>\n",
       "      <th>2998</th>\n",
       "      <td>-0.008149</td>\n",
       "      <td>0.000107</td>\n",
       "      <td>-0.017914</td>\n",
       "      <td>0.010599</td>\n",
       "      <td>Failure</td>\n",
       "    </tr>\n",
       "    <tr>\n",
       "      <th>2999</th>\n",
       "      <td>0.003465</td>\n",
       "      <td>0.023451</td>\n",
       "      <td>0.012463</td>\n",
       "      <td>0.013997</td>\n",
       "      <td>Failure</td>\n",
       "    </tr>\n",
       "  </tbody>\n",
       "</table>\n",
       "<p>2137 rows × 5 columns</p>\n",
       "</div>"
      ],
      "text/plain": [
       "             0         1         2         3     Mode\n",
       "397   0.003946  0.009180  0.004883  0.010035  Failure\n",
       "400  -0.006653 -0.003063 -0.004379  0.002276  Failure\n",
       "401  -0.001126  0.012249 -0.001380  0.006800  Failure\n",
       "402  -0.002541  0.018387 -0.011604 -0.004464  Failure\n",
       "404   0.017978  0.001951 -0.001356 -0.008844  Failure\n",
       "...        ...       ...       ...       ...      ...\n",
       "2995  0.004364 -0.010959 -0.007210  0.012390  Failure\n",
       "2996  0.004077  0.000165 -0.003772  0.010053  Failure\n",
       "2997  0.007702 -0.014708 -0.011722  0.001334  Failure\n",
       "2998 -0.008149  0.000107 -0.017914  0.010599  Failure\n",
       "2999  0.003465  0.023451  0.012463  0.013997  Failure\n",
       "\n",
       "[2137 rows x 5 columns]"
      ]
     },
     "execution_count": 154,
     "metadata": {},
     "output_type": "execute_result"
    }
   ],
   "source": [
    "#Analysing the failure mode\n",
    "df.loc[df['Mode']=='Failure',:]"
   ]
  },
  {
   "cell_type": "markdown",
   "metadata": {},
   "source": [
    "## Outlier Detection"
   ]
  },
  {
   "cell_type": "code",
   "execution_count": 167,
   "metadata": {},
   "outputs": [],
   "source": [
    "#Identify the columns which have outliers\n",
    "from scipy.stats import iqr\n",
    "range_map = {}\n",
    "outlier_cols = []\n",
    "for col in df.columns: #['0', '1', '2', '3']:\n",
    "    if(df[col].dtype != \"object\"):\n",
    "        #print(col)\n",
    "        low = df[col].quantile(0.03)\n",
    "        upp = df[col].quantile(0.97)\n",
    "        range_map[col] = [low,upp]#,min(df[col]),max(df[col])]\n",
    "        if(min(df[col]) < low or max(df[col]) > upp):\n",
    "            outlier_cols.append(col)\n"
   ]
  },
  {
   "cell_type": "code",
   "execution_count": 168,
   "metadata": {},
   "outputs": [],
   "source": [
    "def outlier_col_count(row):\n",
    "    count = 0\n",
    "    for col in outlier_cols:\n",
    "        if(row[col] > range_map[col][1] or row[col] < range_map[col][0] ):\n",
    "            count+=1\n",
    "    return count\n",
    "df['outlier_count'] = df.apply(outlier_col_count, axis=1)"
   ]
  },
  {
   "cell_type": "code",
   "execution_count": 169,
   "metadata": {},
   "outputs": [],
   "source": [
    "outlier_cols = ['0', '1', '2', '3']"
   ]
  },
  {
   "cell_type": "code",
   "execution_count": 170,
   "metadata": {},
   "outputs": [],
   "source": [
    "for col in outlier_cols:\n",
    "    col_zscore = col + '_zscore'\n",
    "    df[col_zscore] = (df[col] - df[col].mean())/df[col].std(ddof=0)"
   ]
  },
  {
   "cell_type": "code",
   "execution_count": 171,
   "metadata": {},
   "outputs": [
    {
     "data": {
      "text/plain": [
       "0    2378\n",
       "1     529\n",
       "2      88\n",
       "3       5\n",
       "Name: outlier_count, dtype: int64"
      ]
     },
     "execution_count": 171,
     "metadata": {},
     "output_type": "execute_result"
    }
   ],
   "source": [
    "#Below we can see that there are no outliers in 2378 rows,1 outlier in 529 rows,2 ouliers in 88 and max 3 outlier in 5 rows\n",
    "df.outlier_count.value_counts()"
   ]
  },
  {
   "cell_type": "code",
   "execution_count": 172,
   "metadata": {},
   "outputs": [
    {
     "data": {
      "text/html": [
       "<div>\n",
       "<style scoped>\n",
       "    .dataframe tbody tr th:only-of-type {\n",
       "        vertical-align: middle;\n",
       "    }\n",
       "\n",
       "    .dataframe tbody tr th {\n",
       "        vertical-align: top;\n",
       "    }\n",
       "\n",
       "    .dataframe thead th {\n",
       "        text-align: right;\n",
       "    }\n",
       "</style>\n",
       "<table border=\"1\" class=\"dataframe\">\n",
       "  <thead>\n",
       "    <tr style=\"text-align: right;\">\n",
       "      <th></th>\n",
       "      <th>0</th>\n",
       "      <th>1</th>\n",
       "      <th>2</th>\n",
       "      <th>3</th>\n",
       "    </tr>\n",
       "  </thead>\n",
       "  <tbody>\n",
       "    <tr>\n",
       "      <th>count</th>\n",
       "      <td>3000.000000</td>\n",
       "      <td>3000.000000</td>\n",
       "      <td>3000.000000</td>\n",
       "      <td>3000.000000</td>\n",
       "    </tr>\n",
       "    <tr>\n",
       "      <th>mean</th>\n",
       "      <td>-0.816016</td>\n",
       "      <td>-1.091308</td>\n",
       "      <td>1.267945</td>\n",
       "      <td>0.165844</td>\n",
       "    </tr>\n",
       "    <tr>\n",
       "      <th>std</th>\n",
       "      <td>58.078319</td>\n",
       "      <td>55.965665</td>\n",
       "      <td>56.538700</td>\n",
       "      <td>56.910659</td>\n",
       "    </tr>\n",
       "    <tr>\n",
       "      <th>min</th>\n",
       "      <td>-323.954437</td>\n",
       "      <td>-258.780879</td>\n",
       "      <td>-287.153920</td>\n",
       "      <td>-365.362164</td>\n",
       "    </tr>\n",
       "    <tr>\n",
       "      <th>1%</th>\n",
       "      <td>-250.011256</td>\n",
       "      <td>-250.010251</td>\n",
       "      <td>-250.010651</td>\n",
       "      <td>-250.010674</td>\n",
       "    </tr>\n",
       "    <tr>\n",
       "      <th>2%</th>\n",
       "      <td>-250.003809</td>\n",
       "      <td>-250.003078</td>\n",
       "      <td>-250.001296</td>\n",
       "      <td>-250.002615</td>\n",
       "    </tr>\n",
       "    <tr>\n",
       "      <th>2.5%</th>\n",
       "      <td>-250.001123</td>\n",
       "      <td>-250.000540</td>\n",
       "      <td>-34.949158</td>\n",
       "      <td>-84.777372</td>\n",
       "    </tr>\n",
       "    <tr>\n",
       "      <th>3%</th>\n",
       "      <td>-53.373012</td>\n",
       "      <td>-20.684101</td>\n",
       "      <td>-27.943550</td>\n",
       "      <td>-47.247520</td>\n",
       "    </tr>\n",
       "    <tr>\n",
       "      <th>5%</th>\n",
       "      <td>-29.762912</td>\n",
       "      <td>-6.580519</td>\n",
       "      <td>-15.551948</td>\n",
       "      <td>-17.230534</td>\n",
       "    </tr>\n",
       "    <tr>\n",
       "      <th>25%</th>\n",
       "      <td>-0.008684</td>\n",
       "      <td>-0.008851</td>\n",
       "      <td>-0.008274</td>\n",
       "      <td>-0.007883</td>\n",
       "    </tr>\n",
       "    <tr>\n",
       "      <th>50%</th>\n",
       "      <td>-0.000402</td>\n",
       "      <td>-0.000085</td>\n",
       "      <td>0.000669</td>\n",
       "      <td>0.000310</td>\n",
       "    </tr>\n",
       "    <tr>\n",
       "      <th>95%</th>\n",
       "      <td>27.817902</td>\n",
       "      <td>5.333771</td>\n",
       "      <td>18.811903</td>\n",
       "      <td>18.389562</td>\n",
       "    </tr>\n",
       "    <tr>\n",
       "      <th>97%</th>\n",
       "      <td>42.661734</td>\n",
       "      <td>13.260273</td>\n",
       "      <td>35.386364</td>\n",
       "      <td>48.708101</td>\n",
       "    </tr>\n",
       "    <tr>\n",
       "      <th>97.5%</th>\n",
       "      <td>60.819990</td>\n",
       "      <td>21.193335</td>\n",
       "      <td>250.002195</td>\n",
       "      <td>103.290905</td>\n",
       "    </tr>\n",
       "    <tr>\n",
       "      <th>97.8%</th>\n",
       "      <td>250.000354</td>\n",
       "      <td>250.000608</td>\n",
       "      <td>250.003369</td>\n",
       "      <td>250.001285</td>\n",
       "    </tr>\n",
       "    <tr>\n",
       "      <th>98%</th>\n",
       "      <td>250.001529</td>\n",
       "      <td>250.001858</td>\n",
       "      <td>250.004250</td>\n",
       "      <td>250.002734</td>\n",
       "    </tr>\n",
       "    <tr>\n",
       "      <th>99%</th>\n",
       "      <td>250.009277</td>\n",
       "      <td>250.010970</td>\n",
       "      <td>250.009176</td>\n",
       "      <td>250.010808</td>\n",
       "    </tr>\n",
       "    <tr>\n",
       "      <th>max</th>\n",
       "      <td>315.738951</td>\n",
       "      <td>264.374782</td>\n",
       "      <td>281.684102</td>\n",
       "      <td>340.513819</td>\n",
       "    </tr>\n",
       "  </tbody>\n",
       "</table>\n",
       "</div>"
      ],
      "text/plain": [
       "                 0            1            2            3\n",
       "count  3000.000000  3000.000000  3000.000000  3000.000000\n",
       "mean     -0.816016    -1.091308     1.267945     0.165844\n",
       "std      58.078319    55.965665    56.538700    56.910659\n",
       "min    -323.954437  -258.780879  -287.153920  -365.362164\n",
       "1%     -250.011256  -250.010251  -250.010651  -250.010674\n",
       "2%     -250.003809  -250.003078  -250.001296  -250.002615\n",
       "2.5%   -250.001123  -250.000540   -34.949158   -84.777372\n",
       "3%      -53.373012   -20.684101   -27.943550   -47.247520\n",
       "5%      -29.762912    -6.580519   -15.551948   -17.230534\n",
       "25%      -0.008684    -0.008851    -0.008274    -0.007883\n",
       "50%      -0.000402    -0.000085     0.000669     0.000310\n",
       "95%      27.817902     5.333771    18.811903    18.389562\n",
       "97%      42.661734    13.260273    35.386364    48.708101\n",
       "97.5%    60.819990    21.193335   250.002195   103.290905\n",
       "97.8%   250.000354   250.000608   250.003369   250.001285\n",
       "98%     250.001529   250.001858   250.004250   250.002734\n",
       "99%     250.009277   250.010970   250.009176   250.010808\n",
       "max     315.738951   264.374782   281.684102   340.513819"
      ]
     },
     "execution_count": 172,
     "metadata": {},
     "output_type": "execute_result"
    }
   ],
   "source": [
    "df[outlier_cols].describe([0.01,0.02,.025,0.03,0.05,0.25,0.5,0.95,0.97,0.975,.978,0.98,0.99])"
   ]
  },
  {
   "cell_type": "code",
   "execution_count": 174,
   "metadata": {},
   "outputs": [
    {
     "data": {
      "image/png": "[encoded data removed]",
      "text/plain": [
       "<Figure size 432x288 with 1 Axes>"
      ]
     },
     "metadata": {},
     "output_type": "display_data"
    }
   ],
   "source": [
    "# Boxplot showing outliers in the Machine 0 readings\n",
    "import seaborn as sns\n",
    "sns.set_style(\"ticks\", {\"xtick.major.size\": 8, \"ytick.major.size\": 8})\n",
    "sns.set_palette(\"Reds\")\n",
    "ax = sns.boxplot(data=df[['0','1','2','3']], palette=\"Set2\")"
   ]
  },
  {
   "cell_type": "markdown",
   "metadata": {},
   "source": [
    "# Data Modeling"
   ]
  },
  {
   "cell_type": "markdown",
   "metadata": {},
   "source": [
    "## To read data\n",
    "## Fix data colum by trimming\n",
    "## Assing Mode of operation (Normal or Faliure) , Faulty means outliers, just ignoring them\n",
    "## Taking data sample till the first failure as the data after that is not required to analyse the faulty mode \n",
    "## Fixing target variable as 'Failure' mode represented by 1 and 0 for 'Normal' for the machines"
   ]
  },
  {
   "cell_type": "code",
   "execution_count": 33,
   "metadata": {},
   "outputs": [],
   "source": [
    "def fix_date_df(df):\n",
    "    df = df.rename(columns={\"Unnamed: 0\": \"date\"})\n",
    "    df['date'] = pd.to_datetime(df['date'].astype(str).str[:-10])\n",
    "    df['Mode'] = df.apply(fix_faulty,axis=1)\n",
    "    df = df[df['Mode'] != 'Faulty']\n",
    "    value = df.index[df['Mode'] == 'Failure'][0]\n",
    "    df = df.loc[0:value]\n",
    "    df = df.set_index('date') \n",
    "    df['target'] = df['Mode'].apply(lambda x: 0 if x=='Normal' else 1)\n",
    "    #print(df.shape)\n",
    "\n",
    "    return df"
   ]
  },
  {
   "cell_type": "code",
   "execution_count": 35,
   "metadata": {},
   "outputs": [
    {
     "name": "stdout",
     "output_type": "stream",
     "text": [
      "(374, 6)\n",
      "(1647, 6)\n",
      "(1789, 6)\n",
      "(102, 6)\n",
      "(62, 6)\n",
      "(376, 6)\n",
      "(594, 6)\n",
      "(1387, 6)\n",
      "(854, 6)\n",
      "(713, 6)\n",
      "(205, 6)\n",
      "(255, 6)\n",
      "(619, 6)\n",
      "(569, 6)\n",
      "(385, 6)\n",
      "(1686, 6)\n",
      "(564, 6)\n"
     ]
    }
   ],
   "source": [
    "machines = [df1,df2,df3,df4,df5,df6,df7,df8,df9,df10,df11,df12,df13,df14,df15,df16,df17]\n",
    "machines_corrected = []\n",
    "df = None\n",
    "for idx,i in enumerate(machines):\n",
    "    machines[idx] = fix_date_df(i)\n",
    "    print(machines[idx].shape)\n",
    "    if(df is None):\n",
    "        df = machines[idx]\n",
    "    else:\n",
    "        df = pd.concat([machines[idx], df])\n",
    "    "
   ]
  },
  {
   "cell_type": "code",
   "execution_count": 38,
   "metadata": {},
   "outputs": [
    {
     "data": {
      "text/html": [
       "<div>\n",
       "<style scoped>\n",
       "    .dataframe tbody tr th:only-of-type {\n",
       "        vertical-align: middle;\n",
       "    }\n",
       "\n",
       "    .dataframe tbody tr th {\n",
       "        vertical-align: top;\n",
       "    }\n",
       "\n",
       "    .dataframe thead th {\n",
       "        text-align: right;\n",
       "    }\n",
       "</style>\n",
       "<table border=\"1\" class=\"dataframe\">\n",
       "  <thead>\n",
       "    <tr style=\"text-align: right;\">\n",
       "      <th></th>\n",
       "      <th>0</th>\n",
       "      <th>1</th>\n",
       "      <th>2</th>\n",
       "      <th>3</th>\n",
       "      <th>Mode</th>\n",
       "      <th>target</th>\n",
       "    </tr>\n",
       "    <tr>\n",
       "      <th>date</th>\n",
       "      <th></th>\n",
       "      <th></th>\n",
       "      <th></th>\n",
       "      <th></th>\n",
       "      <th></th>\n",
       "      <th></th>\n",
       "    </tr>\n",
       "  </thead>\n",
       "  <tbody>\n",
       "    <tr>\n",
       "      <th>2019-01-01 00:00:00</th>\n",
       "      <td>12.623363</td>\n",
       "      <td>8.820046</td>\n",
       "      <td>-11.808870</td>\n",
       "      <td>10.073501</td>\n",
       "      <td>Normal</td>\n",
       "      <td>0</td>\n",
       "    </tr>\n",
       "    <tr>\n",
       "      <th>2019-01-01 08:00:09</th>\n",
       "      <td>10.826310</td>\n",
       "      <td>2.784958</td>\n",
       "      <td>11.559553</td>\n",
       "      <td>21.897843</td>\n",
       "      <td>Normal</td>\n",
       "      <td>0</td>\n",
       "    </tr>\n",
       "    <tr>\n",
       "      <th>2019-01-01 16:00:19</th>\n",
       "      <td>21.095022</td>\n",
       "      <td>-0.630819</td>\n",
       "      <td>-17.840214</td>\n",
       "      <td>-1.345860</td>\n",
       "      <td>Normal</td>\n",
       "      <td>0</td>\n",
       "    </tr>\n",
       "    <tr>\n",
       "      <th>2019-01-02 00:00:28</th>\n",
       "      <td>32.312872</td>\n",
       "      <td>6.540248</td>\n",
       "      <td>-13.499914</td>\n",
       "      <td>-4.257744</td>\n",
       "      <td>Normal</td>\n",
       "      <td>0</td>\n",
       "    </tr>\n",
       "    <tr>\n",
       "      <th>2019-01-02 08:00:38</th>\n",
       "      <td>28.057312</td>\n",
       "      <td>253.690365</td>\n",
       "      <td>21.970890</td>\n",
       "      <td>13.635885</td>\n",
       "      <td>Normal</td>\n",
       "      <td>0</td>\n",
       "    </tr>\n",
       "  </tbody>\n",
       "</table>\n",
       "</div>"
      ],
      "text/plain": [
       "                             0           1          2          3    Mode  \\\n",
       "date                                                                       \n",
       "2019-01-01 00:00:00  12.623363    8.820046 -11.808870  10.073501  Normal   \n",
       "2019-01-01 08:00:09  10.826310    2.784958  11.559553  21.897843  Normal   \n",
       "2019-01-01 16:00:19  21.095022   -0.630819 -17.840214  -1.345860  Normal   \n",
       "2019-01-02 00:00:28  32.312872    6.540248 -13.499914  -4.257744  Normal   \n",
       "2019-01-02 08:00:38  28.057312  253.690365  21.970890  13.635885  Normal   \n",
       "\n",
       "                     target  \n",
       "date                         \n",
       "2019-01-01 00:00:00       0  \n",
       "2019-01-01 08:00:09       0  \n",
       "2019-01-01 16:00:19       0  \n",
       "2019-01-02 00:00:28       0  \n",
       "2019-01-02 08:00:38       0  "
      ]
     },
     "execution_count": 38,
     "metadata": {},
     "output_type": "execute_result"
    }
   ],
   "source": [
    "df.head()"
   ]
  },
  {
   "cell_type": "code",
   "execution_count": 37,
   "metadata": {},
   "outputs": [
    {
     "data": {
      "text/plain": [
       "0    12164\n",
       "1       17\n",
       "Name: target, dtype: int64"
      ]
     },
     "execution_count": 37,
     "metadata": {},
     "output_type": "execute_result"
    }
   ],
   "source": [
    "df.target.value_counts()"
   ]
  },
  {
   "cell_type": "code",
   "execution_count": null,
   "metadata": {},
   "outputs": [],
   "source": [
    "#Using TimeSeries generator to create input batches for LSTM Model\n",
    "# Since there are 4 machine readings , I am trying to build 4 LSTM models, hence 4 generators will produce sequences"
   ]
  },
  {
   "cell_type": "code",
   "execution_count": 40,
   "metadata": {},
   "outputs": [],
   "source": [
    "cols = ['0', '1', '2', '3']\n",
    "n_input = 12\n",
    "n_features = 1\n",
    "stride = 1\n",
    "g1 = g2 = g3= g4 = None\n",
    "generators = [g1,g2,g3,g4]\n",
    "for i, col in enumerate(cols):\n",
    "    scaler = MinMaxScaler()\n",
    "    df_temp = scaler.fit_transform(df[[col]])\n",
    "    generators[i] = TimeseriesGenerator(df_temp,df['target'], stride = stride, length = n_input, batch_size = 4)"
   ]
  },
  {
   "cell_type": "code",
   "execution_count": null,
   "metadata": {},
   "outputs": [],
   "source": [
    "#There are 4 LSTM models. Each tryting to predict if the next step is going to faulty or normal."
   ]
  },
  {
   "cell_type": "code",
   "execution_count": 41,
   "metadata": {},
   "outputs": [],
   "source": [
    "models = []\n",
    "for g in generators:\n",
    "    lstm_model = Sequential()\n",
    "    lstm_model.add(LSTM(200, activation = 'relu',input_shape = (n_input,n_features)))\n",
    "    lstm_model.add(Dense(1))\n",
    "    loss_fn = keras.losses.BinaryCrossentropy()\n",
    "    lstm_model.compile(optimizer='adam', loss = loss_fn)\n",
    "    models.append(lstm_model)"
   ]
  },
  {
   "cell_type": "code",
   "execution_count": 44,
   "metadata": {},
   "outputs": [
    {
     "name": "stdout",
     "output_type": "stream",
     "text": [
      "WARNING:tensorflow:From <timed exec>:2: Model.fit_generator (from tensorflow.python.keras.engine.training) is deprecated and will be removed in a future version.\n",
      "Instructions for updating:\n",
      "Please use Model.fit, which supports generators.\n",
      "Epoch 1/4\n",
      "3043/3043 [==============================] - 49s 16ms/step - loss: 0.0216\n",
      "Epoch 2/4\n",
      "3043/3043 [==============================] - 48s 16ms/step - loss: 0.0215\n",
      "Epoch 3/4\n",
      "3043/3043 [==============================] - 46s 15ms/step - loss: 0.0215\n",
      "Epoch 4/4\n",
      "3043/3043 [==============================] - 48s 16ms/step - loss: 0.0215\n",
      "FINISHED---------0----------\n",
      "Epoch 1/4\n",
      "3043/3043 [==============================] - 47s 15ms/step - loss: 0.0215\n",
      "Epoch 2/4\n",
      "3043/3043 [==============================] - 46s 15ms/step - loss: 0.0215\n",
      "Epoch 3/4\n",
      "3043/3043 [==============================] - 44s 14ms/step - loss: 0.0215\n",
      "Epoch 4/4\n",
      "3043/3043 [==============================] - 44s 14ms/step - loss: 0.0215\n",
      "FINISHED---------1----------\n",
      "Epoch 1/4\n",
      "3043/3043 [==============================] - 48s 16ms/step - loss: 0.0216\n",
      "Epoch 2/4\n",
      "3043/3043 [==============================] - 46s 15ms/step - loss: 0.0215\n",
      "Epoch 3/4\n",
      "3043/3043 [==============================] - 47s 15ms/step - loss: 0.0215\n",
      "Epoch 4/4\n",
      "3043/3043 [==============================] - 47s 15ms/step - loss: 0.0215\n",
      "FINISHED---------2----------\n",
      "Epoch 1/4\n",
      "3043/3043 [==============================] - 47s 15ms/step - loss: 0.0215\n",
      "Epoch 2/4\n",
      "3043/3043 [==============================] - 50s 16ms/step - loss: 0.0215\n",
      "Epoch 3/4\n",
      "3043/3043 [==============================] - 46s 15ms/step - loss: 0.0215\n",
      "Epoch 4/4\n",
      "3043/3043 [==============================] - 48s 16ms/step - loss: 0.0215\n",
      "FINISHED---------3----------\n",
      "Wall time: 12min 39s\n"
     ]
    }
   ],
   "source": [
    "%%time \n",
    "for i,model in enumerate(models):\n",
    "    model.fit_generator(generators[0],epochs = 4)\n",
    "    print(\"FINISHED---------{}----------\".format(i))"
   ]
  },
  {
   "cell_type": "markdown",
   "metadata": {},
   "source": [
    "##  Inference"
   ]
  },
  {
   "cell_type": "code",
   "execution_count": null,
   "metadata": {},
   "outputs": [],
   "source": [
    "#Using Machine 18,19,20 readings as test dataset.\n",
    "# Trying to infer this from Models built previously \n",
    "#Values close 0 or 1 indicate failure.\n",
    "#We can provide series of readings and predict if the machine is going towards failure."
   ]
  },
  {
   "cell_type": "code",
   "execution_count": 45,
   "metadata": {},
   "outputs": [],
   "source": [
    "df18 = fix_date_df(df18)\n",
    "df19 = fix_date_df(df19)\n",
    "df20 = fix_date_df(df20)"
   ]
  },
  {
   "cell_type": "code",
   "execution_count": 87,
   "metadata": {},
   "outputs": [],
   "source": [
    "def scale_and_predict(df, start, end):\n",
    "    scaler = MinMaxScaler()\n",
    "    cols = ['0', '1', '2', '3']\n",
    "    for i, col in enumerate(cols):\n",
    "        scaled_data = scaler.fit_transform(df[[col]])\n",
    "        batch = scaled_data[start:end]\n",
    "        batch = batch.reshape(1,n_input,n_features)\n",
    "        #print(batch)\n",
    "        print(models[i].predict(batch)[0].reshape(1, -1))\n",
    "        "
   ]
  },
  {
   "cell_type": "code",
   "execution_count": 88,
   "metadata": {},
   "outputs": [
    {
     "name": "stdout",
     "output_type": "stream",
     "text": [
      "[[-0.13491224]]\n",
      "[[-0.17635855]]\n",
      "[[-0.18854733]]\n",
      "[[-0.1665728]]\n"
     ]
    }
   ],
   "source": [
    "scale_and_predict(df18,-13,-1)"
   ]
  },
  {
   "cell_type": "code",
   "execution_count": 89,
   "metadata": {},
   "outputs": [
    {
     "name": "stdout",
     "output_type": "stream",
     "text": [
      "[[-0.23634666]]\n",
      "[[-0.15639655]]\n",
      "[[-0.18010734]]\n",
      "[[-0.18081202]]\n"
     ]
    }
   ],
   "source": [
    "scale_and_predict(df19,-13,-1)"
   ]
  },
  {
   "cell_type": "code",
   "execution_count": 90,
   "metadata": {},
   "outputs": [
    {
     "name": "stdout",
     "output_type": "stream",
     "text": [
      "[[-0.23860407]]\n",
      "[[-0.15257825]]\n",
      "[[-0.14108865]]\n",
      "[[-0.15616053]]\n"
     ]
    }
   ],
   "source": [
    "scale_and_predict(df20,-13,-1)"
   ]
  },
  {
   "cell_type": "code",
   "execution_count": 73,
   "metadata": {},
   "outputs": [
    {
     "name": "stdout",
     "output_type": "stream",
     "text": [
      "[-0.13363977]\n",
      "[-0.1755084]\n",
      "[-0.18932869]\n",
      "[-0.16336522]\n"
     ]
    }
   ],
   "source": [
    "scale_and_predict(df18,-14,-2)"
   ]
  },
  {
   "cell_type": "code",
   "execution_count": 54,
   "metadata": {},
   "outputs": [
    {
     "data": {
      "text/plain": [
       "(array([[[0.57435142],\n",
       "         [0.56300837],\n",
       "         [0.62782477],\n",
       "         [0.69863216],\n",
       "         [0.67177094],\n",
       "         [0.68170221],\n",
       "         [0.74014038],\n",
       "         [0.7033451 ],\n",
       "         [0.65370985],\n",
       "         [0.68119094],\n",
       "         [0.64620981],\n",
       "         [0.55391699]],\n",
       " \n",
       "        [[0.56300837],\n",
       "         [0.62782477],\n",
       "         [0.69863216],\n",
       "         [0.67177094],\n",
       "         [0.68170221],\n",
       "         [0.74014038],\n",
       "         [0.7033451 ],\n",
       "         [0.65370985],\n",
       "         [0.68119094],\n",
       "         [0.64620981],\n",
       "         [0.55391699],\n",
       "         [0.5455378 ]],\n",
       " \n",
       "        [[0.62782477],\n",
       "         [0.69863216],\n",
       "         [0.67177094],\n",
       "         [0.68170221],\n",
       "         [0.74014038],\n",
       "         [0.7033451 ],\n",
       "         [0.65370985],\n",
       "         [0.68119094],\n",
       "         [0.64620981],\n",
       "         [0.55391699],\n",
       "         [0.5455378 ],\n",
       "         [0.52685007]],\n",
       " \n",
       "        [[0.69863216],\n",
       "         [0.67177094],\n",
       "         [0.68170221],\n",
       "         [0.74014038],\n",
       "         [0.7033451 ],\n",
       "         [0.65370985],\n",
       "         [0.68119094],\n",
       "         [0.64620981],\n",
       "         [0.55391699],\n",
       "         [0.5455378 ],\n",
       "         [0.52685007],\n",
       "         [0.42524884]]]),\n",
       " array([0, 0, 0, 0], dtype=int64))"
      ]
     },
     "execution_count": 54,
     "metadata": {},
     "output_type": "execute_result"
    }
   ],
   "source": [
    "generators[0][0]"
   ]
  }
 ],
 "metadata": {
  "kernelspec": {
   "display_name": "Python 3",
   "language": "python",
   "name": "python3"
  },
  "language_info": {
   "codemirror_mode": {
    "name": "ipython",
    "version": 3
   },
   "file_extension": ".py",
   "mimetype": "text/x-python",
   "name": "python",
   "nbconvert_exporter": "python",
   "pygments_lexer": "ipython3",
   "version": "3.8.3"
  }
 },
 "nbformat": 4,
 "nbformat_minor": 4
}
